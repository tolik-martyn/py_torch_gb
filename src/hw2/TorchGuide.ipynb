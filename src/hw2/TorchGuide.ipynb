{
  "nbformat": 4,
  "nbformat_minor": 0,
  "metadata": {
    "colab": {
      "provenance": []
    },
    "kernelspec": {
      "name": "python3",
      "display_name": "Python 3"
    },
    "language_info": {
      "name": "python"
    }
  },
  "cells": [
    {
      "cell_type": "markdown",
      "source": [
        "# Руководство по PyTorch для начинающих\n",
        "\n",
        "Добро пожаловать в руководство по PyTorch для начинающих! В этом руководстве мы рассмотрим основные шаги по работе с PyTorch, одной из самых популярных библиотек для разработки и обучения нейронных сетей. Мы познакомимся с настройкой среды, загрузкой данных, созданием и обучением нейронной сети для классификации изображений, оценкой точности модели, а также рассмотрим некоторые другие важные особенности PyTorch."
      ],
      "metadata": {
        "id": "nZ_rxAzZP1Pf"
      }
    },
    {
      "cell_type": "markdown",
      "source": [
        "## 1. Как настроить PyTorch\n",
        "\n",
        "Для начала работы с PyTorch нам понадобится установить его и подготовить окружение. Если у вас еще не установлен PyTorch, можно сделать это с помощью pip:"
      ],
      "metadata": {
        "id": "oqodMMLaP4bm"
      }
    },
    {
      "cell_type": "code",
      "source": [
        "pip install torch torchvision"
      ],
      "metadata": {
        "id": "ToglB6zoP7L1"
      },
      "execution_count": null,
      "outputs": []
    },
    {
      "cell_type": "markdown",
      "source": [
        "Теперь, когда у нас есть PyTorch, давайте начнем!"
      ],
      "metadata": {
        "id": "nVknDMVaP-LR"
      }
    },
    {
      "cell_type": "markdown",
      "source": [
        "## 2. Как загрузить готовый набор данных\n",
        "\n",
        "PyTorch предоставляет модуль `torchvision`, который упрощает загрузку популярных наборов данных для компьютерного зрения. Давайте рассмотрим пример загрузки набора данных CIFAR-10:"
      ],
      "metadata": {
        "id": "LSREBGMLQDRk"
      }
    },
    {
      "cell_type": "code",
      "source": [
        "import torch\n",
        "import torchvision\n",
        "import torchvision.transforms as transforms"
      ],
      "metadata": {
        "id": "Ji_MkLNxQHZ4"
      },
      "execution_count": null,
      "outputs": []
    },
    {
      "cell_type": "code",
      "source": [
        "# Применяем преобразования к данным для их нормализации и улучшения производительности\n",
        "transform = transforms.Compose(\n",
        "    [transforms.ToTensor(),\n",
        "     transforms.Normalize((0.5, 0.5, 0.5), (0.5, 0.5, 0.5))])"
      ],
      "metadata": {
        "id": "-Ma4FtvxQMn1"
      },
      "execution_count": null,
      "outputs": []
    },
    {
      "cell_type": "code",
      "source": [
        "# Загружаем обучающий набор данных CIFAR-10\n",
        "trainset = torchvision.datasets.CIFAR10(root='./data', train=True,\n",
        "                                        download=True, transform=transform)\n",
        "trainloader = torch.utils.data.DataLoader(trainset, batch_size=4,\n",
        "                                          shuffle=True, num_workers=2)"
      ],
      "metadata": {
        "id": "Ur2WEJNaQQmp"
      },
      "execution_count": null,
      "outputs": []
    },
    {
      "cell_type": "code",
      "source": [
        "# Загружаем тестовый набор данных CIFAR-10\n",
        "testset = torchvision.datasets.CIFAR10(root='./data', train=False,\n",
        "                                       download=True, transform=transform)\n",
        "testloader = torch.utils.data.DataLoader(testset, batch_size=4,\n",
        "                                         shuffle=False, num_workers=2)"
      ],
      "metadata": {
        "id": "stAap_A0QRk9"
      },
      "execution_count": null,
      "outputs": []
    },
    {
      "cell_type": "markdown",
      "source": [
        "## 3. Как создать модель машинного обучения нейронной сети для классификации изображений\n",
        "\n",
        "PyTorch позволяет легко создавать различные архитектуры нейронных сетей. Давайте создадим простую сверточную нейронную сеть для классификации изображений CIFAR-10:"
      ],
      "metadata": {
        "id": "TRhSA873QKnN"
      }
    },
    {
      "cell_type": "code",
      "source": [
        "import torch.nn as nn\n",
        "import torch.nn.functional as F\n",
        "\n",
        "class Net(nn.Module):\n",
        "    def __init__(self):\n",
        "        super(Net, self).__init__()\n",
        "        self.conv1 = nn.Conv2d(3, 6, 5)\n",
        "        self.pool = nn.MaxPool2d(2, 2)\n",
        "        self.conv2 = nn.Conv2d(6, 16, 5)\n",
        "        self.fc1 = nn.Linear(16 * 5 * 5, 120)\n",
        "        self.fc2 = nn.Linear(120, 84)\n",
        "        self.fc3 = nn.Linear(84, 10)\n",
        "\n",
        "    def forward(self, x):\n",
        "        x = self.pool(F.relu(self.conv1(x)))\n",
        "        x = self.pool(F.relu(self.conv2(x)))\n",
        "        x = x.view(-1, 16 * 5 * 5)\n",
        "        x = F.relu(self.fc1(x))\n",
        "        x = F.relu(self.fc2(x))\n",
        "        x = self.fc3(x)\n",
        "        return x\n",
        "\n",
        "net = Net()"
      ],
      "metadata": {
        "id": "TevDDGovQXuz"
      },
      "execution_count": null,
      "outputs": []
    },
    {
      "cell_type": "markdown",
      "source": [
        "## 4. Как обучить нейронную сеть\n",
        "\n",
        "Теперь, когда у нас есть модель, давайте обучим ее на обучающем наборе данных:"
      ],
      "metadata": {
        "id": "_Zhv6f7yQeDG"
      }
    },
    {
      "cell_type": "code",
      "source": [
        "import torch.optim as optim\n",
        "\n",
        "criterion = nn.CrossEntropyLoss()\n",
        "optimizer = optim.SGD(net.parameters(), lr=0.001, momentum=0.9)\n",
        "\n",
        "for epoch in range(10):  # Цикл обучения на 10 эпохах\n",
        "    running_loss = 0.0\n",
        "    for i, data in enumerate(trainloader, 0):\n",
        "        inputs, labels = data\n",
        "\n",
        "        optimizer.zero_grad()\n",
        "\n",
        "        outputs = net(inputs)\n",
        "        loss = criterion(outputs, labels)\n",
        "        loss.backward()\n",
        "        optimizer.step()\n",
        "\n",
        "        running_loss += loss.item()\n",
        "        if i % 2000 == 1999:    # Печатаем статистику каждые 2000 мини-пакетов\n",
        "            print(f'[{epoch + 1}, {i + 1}] loss: {running_loss / 2000:.3f}')\n",
        "            running_loss = 0.0\n",
        "\n",
        "print(\"Обучение завершено!\")"
      ],
      "metadata": {
        "id": "f0KX5qDiQxNA"
      },
      "execution_count": null,
      "outputs": []
    },
    {
      "cell_type": "markdown",
      "source": [
        "## 5. Как оценить точность модели\n",
        "\n",
        "После обучения давайте оценим точность модели на тестовом наборе данных:"
      ],
      "metadata": {
        "id": "g4pSxbWvQiwn"
      }
    },
    {
      "cell_type": "code",
      "source": [
        "correct = 0\n",
        "total = 0\n",
        "with torch.no_grad():\n",
        "    for data in testloader:\n",
        "        images, labels = data\n",
        "        outputs = net(images)\n",
        "        _, predicted = torch.max(outputs.data, 1)\n",
        "        total += labels.size(0)\n",
        "        correct += (predicted == labels).sum().item()\n",
        "\n",
        "print(f'Точность сети на 10000 тестовых изображений: {100 * correct / total:.2f}%')"
      ],
      "metadata": {
        "id": "8AhFjHwwQ4kk"
      },
      "execution_count": null,
      "outputs": []
    },
    {
      "cell_type": "markdown",
      "source": [
        "## 6. Другие важные особенности PyTorch\n",
        "\n",
        "PyTorch обладает множеством других важных возможностей, таких как:\n",
        "- Автоматическое дифференцирование с помощью модуля `autograd`.\n",
        "- Использование графической обработки на GPU для ускорения обучения.\n",
        "- Создание пользовательских функций потерь и слоев.\n",
        "- Интеграция с другими популярными библиотеками машинного обучения, такими как NumPy."
      ],
      "metadata": {
        "id": "hIHBo_KjQjxZ"
      }
    },
    {
      "cell_type": "markdown",
      "source": [
        "\n",
        "Это лишь краткое введение в PyTorch, и я надеюсь, что оно поможет вам начать свой путь в области глубокого обучения! Удачи в изучении PyTorch!"
      ],
      "metadata": {
        "id": "ctSQKJY7Q_md"
      }
    }
  ]
}