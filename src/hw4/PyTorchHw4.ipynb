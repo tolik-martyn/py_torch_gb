{
  "nbformat": 4,
  "nbformat_minor": 0,
  "metadata": {
    "colab": {
      "provenance": [],
      "gpuType": "T4"
    },
    "kernelspec": {
      "name": "python3",
      "display_name": "Python 3"
    },
    "language_info": {
      "name": "python"
    },
    "accelerator": "GPU"
  },
  "cells": [
    {
      "cell_type": "code",
      "source": [
        "import torch\n",
        "import torch.nn as nn\n",
        "import torchvision\n",
        "import torchvision.transforms as transforms\n",
        "import torch.optim as optim\n",
        "import numpy as np"
      ],
      "metadata": {
        "id": "ZOnBTx_LT-Cf"
      },
      "execution_count": 10,
      "outputs": []
    },
    {
      "cell_type": "code",
      "source": [
        "# Функция для создания самописной CNN без дообучения\n",
        "def train_custom_cnn():\n",
        "    class CustomCNN(nn.Module):\n",
        "        def __init__(self):\n",
        "            super(CustomCNN, self).__init__()\n",
        "            self.conv1 = nn.Conv2d(3, 16, 3, padding=1)\n",
        "            self.relu1 = nn.ReLU()\n",
        "            self.pool = nn.MaxPool2d(2, 2)\n",
        "            self.conv2 = nn.Conv2d(16, 32, 3, padding=1)\n",
        "            self.relu2 = nn.ReLU()\n",
        "            self.fc = nn.Linear(32 * 8 * 8, 100)\n",
        "\n",
        "        def forward(self, x):\n",
        "            x = self.pool(self.relu1(self.conv1(x)))\n",
        "            x = self.pool(self.relu2(self.conv2(x)))\n",
        "            x = x.view(-1, 32 * 8 * 8)\n",
        "            x = self.fc(x)\n",
        "            return x\n",
        "\n",
        "    device = torch.device('cuda' if torch.cuda.is_available() else 'cpu')\n",
        "\n",
        "    # Загрузка данных\n",
        "    transform = transforms.Compose([\n",
        "        transforms.RandomHorizontalFlip(),\n",
        "        transforms.RandomCrop(32, padding=4),\n",
        "        transforms.ToTensor(),\n",
        "        transforms.Normalize((0.5, 0.5, 0.5), (0.5, 0.5, 0.5))\n",
        "    ])\n",
        "\n",
        "    trainset = torchvision.datasets.CIFAR100(root='./data', train=True, download=True, transform=transform)\n",
        "    trainloader = torch.utils.data.DataLoader(trainset, batch_size=128, shuffle=True, num_workers=2)\n",
        "\n",
        "    # Создание модели и оптимизатора\n",
        "    net = CustomCNN()\n",
        "    net.to(device)\n",
        "    criterion = nn.CrossEntropyLoss()\n",
        "    optimizer = optim.SGD(net.parameters(), lr=0.001, momentum=0.9)\n",
        "\n",
        "    # Обучение\n",
        "    for epoch in range(20):\n",
        "        running_loss = 0.0\n",
        "        total_accuracy = 0.0\n",
        "        for i, data in enumerate(trainloader, 0):\n",
        "            inputs, labels = data[0].to(device), data[1].to(device)\n",
        "\n",
        "            optimizer.zero_grad()\n",
        "\n",
        "            outputs = net(inputs)\n",
        "            loss = criterion(outputs, labels)\n",
        "            loss.backward()\n",
        "            optimizer.step()\n",
        "\n",
        "            running_loss += loss.item()\n",
        "\n",
        "            # Расчет accuracy\n",
        "            _, predicted = torch.max(outputs.data, 1)\n",
        "            total_accuracy += (predicted == labels).sum().item()\n",
        "\n",
        "        accuracy = 100 * total_accuracy / len(trainset)\n",
        "        print(f'Эпоха {epoch + 1}, Потери: {running_loss / len(trainloader)}, Точность: {accuracy:.2f}%')\n",
        "\n",
        "    print('Обучение самописной CNN завершено')"
      ],
      "metadata": {
        "id": "NhVffqinT-km"
      },
      "execution_count": 11,
      "outputs": []
    },
    {
      "cell_type": "code",
      "source": [
        "# Функция для создания CNN через дообучение ImageNet Resnet-50\n",
        "def train_resnet50_transfer_learning():\n",
        "    device = torch.device('cuda' if torch.cuda.is_available() else 'cpu')\n",
        "\n",
        "    # Загрузка данных\n",
        "    transform = transforms.Compose([\n",
        "        transforms.Resize((224, 224)),  # Изменение размера изображения для ResNet-50\n",
        "        transforms.ToTensor(),\n",
        "        transforms.Normalize((0.5, 0.5, 0.5), (0.5, 0.5, 0.5))\n",
        "    ])\n",
        "\n",
        "    trainset = torchvision.datasets.CIFAR100(root='./data', train=True, download=True, transform=transform)\n",
        "    trainloader = torch.utils.data.DataLoader(trainset, batch_size=128, shuffle=True, num_workers=2)\n",
        "\n",
        "    # Загрузка предварительно обученной модели ResNet-50\n",
        "    resnet = torchvision.models.resnet50(pretrained=True)\n",
        "    num_ftrs = resnet.fc.in_features\n",
        "    resnet.fc = nn.Linear(num_ftrs, 100)\n",
        "    resnet.to(device)\n",
        "\n",
        "    criterion = nn.CrossEntropyLoss()\n",
        "    optimizer = optim.SGD(resnet.parameters(), lr=0.001, momentum=0.9)\n",
        "\n",
        "    # Обучение\n",
        "    for epoch in range(5):\n",
        "        running_loss = 0.0\n",
        "        total_accuracy = 0.0\n",
        "        for i, data in enumerate(trainloader, 0):\n",
        "            inputs, labels = data[0].to(device), data[1].to(device)\n",
        "\n",
        "            optimizer.zero_grad()\n",
        "\n",
        "            outputs = resnet(inputs)\n",
        "            loss = criterion(outputs, labels)\n",
        "            loss.backward()\n",
        "            optimizer.step()\n",
        "\n",
        "            running_loss += loss.item()\n",
        "\n",
        "            # Расчет accuracy\n",
        "            _, predicted = torch.max(outputs.data, 1)\n",
        "            total_accuracy += (predicted == labels).sum().item()\n",
        "\n",
        "        accuracy = 100 * total_accuracy / len(trainset)\n",
        "        print(f'Эпоха {epoch + 1}, Потери: {running_loss / len(trainloader)}, Точность: {accuracy:.2f}%')\n",
        "\n",
        "    print('Обучение CNN с использованием ImageNet ResNet-50 завершено')"
      ],
      "metadata": {
        "id": "qoFUuLrgUDCT"
      },
      "execution_count": 17,
      "outputs": []
    },
    {
      "cell_type": "code",
      "source": [
        "# Функция для создания CNN через дообучение ImageNet Resnet-50 с аугментацией данных\n",
        "def train_resnet50_with_augmentation():\n",
        "    device = torch.device('cuda' if torch.cuda.is_available() else 'cpu')\n",
        "\n",
        "    # Загрузка данных с аугментацией\n",
        "    transform = transforms.Compose([\n",
        "        transforms.RandomResizedCrop(224),\n",
        "        transforms.RandomHorizontalFlip(),\n",
        "        transforms.ColorJitter(brightness=0.4, contrast=0.4, saturation=0.4, hue=0.1),\n",
        "        transforms.ToTensor(),\n",
        "        transforms.Normalize((0.5, 0.5, 0.5), (0.5, 0.5, 0.5))\n",
        "    ])\n",
        "\n",
        "    trainset = torchvision.datasets.CIFAR100(root='./data', train=True, download=True, transform=transform)\n",
        "    trainloader = torch.utils.data.DataLoader(trainset, batch_size=128, shuffle=True, num_workers=2)\n",
        "\n",
        "    # Загрузка предварительно обученной модели ResNet-50\n",
        "    resnet = torchvision.models.resnet50(pretrained=True)\n",
        "    num_ftrs = resnet.fc.in_features\n",
        "    resnet.fc = nn.Linear(num_ftrs, 100)\n",
        "    resnet.to(device)\n",
        "\n",
        "    criterion = nn.CrossEntropyLoss()\n",
        "    optimizer = optim.SGD(resnet.parameters(), lr=0.001, momentum=0.9)\n",
        "\n",
        "    # Обучение\n",
        "    for epoch in range(5):\n",
        "        running_loss = 0.0\n",
        "        total_accuracy = 0.0\n",
        "        for i, data in enumerate(trainloader, 0):\n",
        "            inputs, labels = data[0].to(device), data[1].to(device)\n",
        "\n",
        "            optimizer.zero_grad()\n",
        "\n",
        "            outputs = resnet(inputs)\n",
        "            loss = criterion(outputs, labels)\n",
        "            loss.backward()\n",
        "            optimizer.step()\n",
        "\n",
        "            running_loss += loss.item()\n",
        "\n",
        "            # Расчет accuracy\n",
        "            _, predicted = torch.max(outputs.data, 1)\n",
        "            total_accuracy += (predicted == labels).sum().item()\n",
        "\n",
        "        accuracy = 100 * total_accuracy / len(trainset)\n",
        "        print(f'Эпоха {epoch + 1}, Потери: {running_loss / len(trainloader)}, Точность: {accuracy:.2f}%')\n",
        "\n",
        "    print('Обучение CNN с использованием ImageNet ResNet-50 и аугментацией данных завершено')"
      ],
      "metadata": {
        "id": "t8zZEq3dUIMW"
      },
      "execution_count": 18,
      "outputs": []
    },
    {
      "cell_type": "code",
      "source": [
        "# Обучение самописной CNN\n",
        "train_custom_cnn()"
      ],
      "metadata": {
        "colab": {
          "base_uri": "https://localhost:8080/"
        },
        "id": "eZobhphdUVKK",
        "outputId": "8e7460e2-ebb7-46fc-d638-b8189c659bfd"
      },
      "execution_count": 15,
      "outputs": [
        {
          "output_type": "stream",
          "name": "stdout",
          "text": [
            "Files already downloaded and verified\n",
            "Эпоха 1, Потери: 4.588404572528342, Точность: 2.31%\n",
            "Эпоха 2, Потери: 4.439851184025445, Точность: 4.22%\n",
            "Эпоха 3, Потери: 4.115875048405679, Точность: 8.37%\n",
            "Эпоха 4, Потери: 3.96037452361163, Точность: 10.52%\n",
            "Эпоха 5, Потери: 3.866449200588724, Точность: 12.29%\n",
            "Эпоха 6, Потери: 3.779471775454938, Точность: 13.46%\n",
            "Эпоха 7, Потери: 3.711638938435508, Точность: 14.48%\n",
            "Эпоха 8, Потери: 3.6617275400234917, Точность: 15.71%\n",
            "Эпоха 9, Потери: 3.6164504024378785, Точность: 16.45%\n",
            "Эпоха 10, Потери: 3.577941404279236, Точность: 17.25%\n",
            "Эпоха 11, Потери: 3.526836884296154, Точность: 18.08%\n",
            "Эпоха 12, Потери: 3.4808094153928635, Точность: 18.76%\n",
            "Эпоха 13, Потери: 3.4326040494777357, Точность: 19.74%\n",
            "Эпоха 14, Потери: 3.3858547320451273, Точность: 20.53%\n",
            "Эпоха 15, Потери: 3.3510812414271753, Точность: 21.01%\n",
            "Эпоха 16, Потери: 3.312873745818272, Точность: 21.76%\n",
            "Эпоха 17, Потери: 3.2797129361525825, Точность: 22.42%\n",
            "Эпоха 18, Потери: 3.247311655517734, Точность: 23.02%\n",
            "Эпоха 19, Потери: 3.2225779639485546, Точность: 23.52%\n",
            "Эпоха 20, Потери: 3.181134436136621, Точность: 24.26%\n",
            "Обучение самописной CNN завершено\n"
          ]
        }
      ]
    },
    {
      "cell_type": "code",
      "source": [
        "# Обучение CNN с использованием ImageNet ResNet-50\n",
        "train_resnet50_transfer_learning()"
      ],
      "metadata": {
        "colab": {
          "base_uri": "https://localhost:8080/"
        },
        "id": "MauERwBZUeUJ",
        "outputId": "9f58377f-bafd-421b-95ef-c5d9d60c868c"
      },
      "execution_count": 19,
      "outputs": [
        {
          "output_type": "stream",
          "name": "stdout",
          "text": [
            "Files already downloaded and verified\n",
            "Эпоха 1, Потери: 3.0779860233102005, Точность: 39.00%\n",
            "Эпоха 2, Потери: 1.1647198255104787, Точность: 71.81%\n",
            "Эпоха 3, Потери: 0.7616166585241743, Точность: 79.59%\n",
            "Эпоха 4, Потери: 0.570047060394531, Точность: 84.21%\n",
            "Эпоха 5, Потери: 0.43574659842664326, Точность: 88.01%\n",
            "Обучение CNN с использованием ImageNet ResNet-50 завершено\n"
          ]
        }
      ]
    },
    {
      "cell_type": "code",
      "source": [
        "# Обучение CNN с использованием ImageNet ResNet-50 и аугментацией данных\n",
        "train_resnet50_with_augmentation()"
      ],
      "metadata": {
        "colab": {
          "base_uri": "https://localhost:8080/"
        },
        "id": "wMUCtOhUUndX",
        "outputId": "b75897af-091a-45ac-d4d6-1708c31eac05"
      },
      "execution_count": 20,
      "outputs": [
        {
          "output_type": "stream",
          "name": "stdout",
          "text": [
            "Files already downloaded and verified\n",
            "Эпоха 1, Потери: 4.007839771182946, Точность: 13.33%\n",
            "Эпоха 2, Потери: 2.651599705066827, Точность: 37.34%\n",
            "Эпоха 3, Потери: 2.0475451784670504, Точность: 48.37%\n",
            "Эпоха 4, Потери: 1.7811646272459298, Точность: 53.61%\n",
            "Эпоха 5, Потери: 1.6419980013766862, Точность: 56.56%\n",
            "Обучение CNN с использованием ImageNet ResNet-50 и аугментацией данных завершено\n"
          ]
        }
      ]
    },
    {
      "cell_type": "markdown",
      "source": [
        "На основе полученных результатов обучения трех различных моделей можно сделать следующие выводы:\n",
        "\n",
        "1. Самописная CNN без дообучения:\n",
        "   - Эпоха 1: Точность составляет всего 2.31%, что говорит о том, что модель пока не обучена и неспособна хорошо классифицировать изображения.\n",
        "   - С каждой эпохой точность и потери постепенно улучшаются. На последних эпохах точность составляет около 24%, а потери уменьшаются до примерно 3.18.\n",
        "   - В целом, результаты обучения самописной CNN не очень хорошие, и модель нуждается в дальнейшем улучшении.\n",
        "\n",
        "2. CNN с использованием ImageNet ResNet-50 без аугментации данных:\n",
        "   - Уже на первой эпохе точность составляет 39.00%, что гораздо лучше, чем у самописной CNN.\n",
        "   - С каждой эпохой точность улучшается, достигая около 88.01% на последней эпохе. При этом потери уменьшаются до примерно 0.44.\n",
        "   - Использование предварительно обученной ResNet-50 на ImageNet позволяет значительно улучшить результаты классификации на CIFAR-100 без аугментации данных, при этом возможен риск переобучения на тренировочных данных.\n",
        "\n",
        "3. CNN с использованием ImageNet ResNet-50 и аугментацией данных:\n",
        "   - На первой эпохе точность составляет всего 13.33%, что ниже, чем у ResNet-50 без аугментации.\n",
        "   - Однако, с использованием аугментации данных модель показывает улучшение с каждой эпохой, достигая точности около 56.56% на последней эпохе.\n",
        "   - Потери также уменьшаются до около 1.64 на последней эпохе.\n",
        "   - Использование аугментации данных позволяет улучшить обучение модели, но точность все равно ниже, чем у ResNet-50 без аугментации.\n",
        "\n",
        "Выводы:\n",
        "- Использование предварительно обученной модели ResNet-50 на ImageNet существенно улучшает результаты классификации на CIFAR-100.\n",
        "- Аугментация данных может помочь улучшить результаты, но в данном случае, несмотря на улучшение, точность остается ниже, чем у ResNet-50 без аугментации.\n",
        "- В целом, использование предварительно обученных моделей и аугментации данных является полезной стратегией для улучшения результатов классификации изображений. Однако, возможно, еще можно оптимизировать гиперпараметры или провести более продолжительное обучение, чтобы получить еще более высокую точность модели."
      ],
      "metadata": {
        "id": "le8_JfGqf3cy"
      }
    }
  ]
}