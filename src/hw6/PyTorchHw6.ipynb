{
  "cells": [
    {
      "cell_type": "code",
      "execution_count": null,
      "metadata": {
        "colab": {
          "base_uri": "https://localhost:8080/"
        },
        "id": "W4ElqxlLTjsy",
        "outputId": "be7fe2cf-4fd8-43d4-ebe6-7daecd06e641"
      },
      "outputs": [
        {
          "name": "stderr",
          "output_type": "stream",
          "text": [
            "[nltk_data] Downloading package stopwords to /root/nltk_data...\n",
            "[nltk_data]   Unzipping corpora/stopwords.zip.\n",
            "[nltk_data] Downloading package wordnet to /root/nltk_data...\n"
          ]
        }
      ],
      "source": [
        "import pandas as pd\n",
        "import numpy as np\n",
        "import matplotlib.pyplot as plt\n",
        "\n",
        "import torch\n",
        "import torch.nn as nn\n",
        "import torch.optim as optim\n",
        "\n",
        "from sklearn.model_selection import train_test_split\n",
        "from sklearn.feature_extraction.text import CountVectorizer, TfidfVectorizer\n",
        "from sklearn.metrics import roc_auc_score, roc_curve\n",
        "\n",
        "import nltk\n",
        "from nltk.corpus import stopwords\n",
        "from textblob import Word\n",
        "\n",
        "nltk.download('stopwords')\n",
        "nltk.download('wordnet')\n",
        "\n",
        "from termcolor import colored\n",
        "from warnings import filterwarnings\n",
        "filterwarnings('ignore')"
      ]
    },
    {
      "cell_type": "code",
      "execution_count": 3,
      "metadata": {
        "id": "QYgGKCFgTtLS"
      },
      "outputs": [],
      "source": [
        "# Загрузка данных\n",
        "train_set = pd.read_csv(\"./train.csv\", encoding=\"utf-8\", engine=\"python\")\n",
        "test_set = pd.read_csv(\"./test.csv\", encoding=\"utf-8\", engine=\"python\")"
      ]
    },
    {
      "cell_type": "code",
      "execution_count": 4,
      "metadata": {
        "id": "ydgji4HWTz6q"
      },
      "outputs": [],
      "source": [
        "# Предобработка текстов\n",
        "def preprocess_text(text):\n",
        "    text = text.lower()\n",
        "    text = text.replace('[^\\w\\s]', '')\n",
        "    text = text.replace('\\d', '')\n",
        "    text = ' '.join([Word(word).lemmatize() for word in text.split() if word not in sw])\n",
        "    return text"
      ]
    },
    {
      "cell_type": "code",
      "execution_count": 5,
      "metadata": {
        "id": "KOLFl4diT1Nf"
      },
      "outputs": [],
      "source": [
        "sw = stopwords.words(\"english\")\n",
        "train_set['tweet'] = train_set['tweet'].apply(preprocess_text)\n",
        "test_set['tweet'] = test_set['tweet'].apply(preprocess_text)"
      ]
    },
    {
      "cell_type": "code",
      "execution_count": 6,
      "metadata": {
        "id": "cy-q5_LtUElK"
      },
      "outputs": [],
      "source": [
        "# Разделение данных\n",
        "train_x, test_x, train_y, test_y = train_test_split(train_set[\"tweet\"], train_set[\"label\"], test_size=0.20, random_state=11)"
      ]
    },
    {
      "cell_type": "code",
      "execution_count": 7,
      "metadata": {
        "id": "C1fJgRBKUGHC"
      },
      "outputs": [],
      "source": [
        "# Векторизация текста\n",
        "vectorizer = CountVectorizer()\n",
        "x_train_count = vectorizer.fit_transform(train_x)\n",
        "x_test_count = vectorizer.transform(test_x)"
      ]
    },
    {
      "cell_type": "code",
      "execution_count": 8,
      "metadata": {
        "id": "B3irKF7IUHnE"
      },
      "outputs": [],
      "source": [
        "tf_idf_word_vectorizer = TfidfVectorizer()\n",
        "x_train_tf_idf_word = tf_idf_word_vectorizer.fit_transform(train_x)\n",
        "x_test_tf_idf_word = tf_idf_word_vectorizer.transform(test_x)"
      ]
    },
    {
      "cell_type": "code",
      "execution_count": 9,
      "metadata": {
        "id": "6V6KfWxYUJBV"
      },
      "outputs": [],
      "source": [
        "# Определение модели с помощью PyTorch\n",
        "class SimpleClassifier(nn.Module):\n",
        "    def __init__(self, input_dim, hidden_dim, output_dim):\n",
        "        super(SimpleClassifier, self).__init__()\n",
        "        self.fc1 = nn.Linear(input_dim, hidden_dim)\n",
        "        self.relu = nn.ReLU()\n",
        "        self.fc2 = nn.Linear(hidden_dim, output_dim)\n",
        "\n",
        "    def forward(self, x):\n",
        "        x = self.fc1(x)\n",
        "        x = self.relu(x)\n",
        "        x = self.fc2(x)\n",
        "        return x"
      ]
    },
    {
      "cell_type": "code",
      "execution_count": 10,
      "metadata": {
        "id": "leGB7huUULEv"
      },
      "outputs": [],
      "source": [
        "input_dim = x_train_count.shape[1]\n",
        "output_dim = 1\n",
        "hidden_dim = 128"
      ]
    },
    {
      "cell_type": "code",
      "execution_count": 11,
      "metadata": {
        "id": "2M3TaCamUMnv"
      },
      "outputs": [],
      "source": [
        "model = SimpleClassifier(input_dim, hidden_dim, output_dim)"
      ]
    },
    {
      "cell_type": "code",
      "execution_count": 12,
      "metadata": {
        "id": "J6ZxuF7ZUOCJ"
      },
      "outputs": [],
      "source": [
        "# Конвертация разреженных матриц в формат torch.sparse\n",
        "x_train_count = torch.tensor(x_train_count.toarray(), dtype=torch.float32)\n",
        "x_test_count = torch.tensor(x_test_count.toarray(), dtype=torch.float32)"
      ]
    },
    {
      "cell_type": "code",
      "execution_count": 13,
      "metadata": {
        "id": "ikaZ18NIUPEk"
      },
      "outputs": [],
      "source": [
        "# Обучение модели с помощью PyTorch\n",
        "criterion = nn.BCEWithLogitsLoss()\n",
        "optimizer = optim.Adam(model.parameters(), lr=0.001)"
      ]
    },
    {
      "cell_type": "code",
      "execution_count": 15,
      "metadata": {
        "id": "3lpAeqSRURM8"
      },
      "outputs": [],
      "source": [
        "num_epochs = 10\n",
        "for epoch in range(num_epochs):\n",
        "    optimizer.zero_grad()\n",
        "    outputs = model(x_train_count)\n",
        "    loss = criterion(outputs, torch.tensor(train_y.values, dtype=torch.float32).unsqueeze(1))\n",
        "    loss.backward()\n",
        "    optimizer.step()"
      ]
    },
    {
      "cell_type": "code",
      "execution_count": 19,
      "metadata": {
        "id": "YtH9Z4RfUS_E"
      },
      "outputs": [],
      "source": [
        "def evaluate_model(model, x, y):\n",
        "    with torch.no_grad():\n",
        "        model.eval()\n",
        "        outputs = model(x)\n",
        "        predicted_labels = torch.round(torch.sigmoid(outputs))\n",
        "        accuracy = (predicted_labels == y.unsqueeze(1)).sum().item() / len(y)\n",
        "    return accuracy"
      ]
    },
    {
      "cell_type": "code",
      "execution_count": 20,
      "metadata": {
        "id": "zPSBngWAUxJU"
      },
      "outputs": [],
      "source": [
        "train_accuracy = evaluate_model(model, x_train_count, torch.tensor(train_y.values, dtype=torch.float32))\n",
        "test_accuracy = evaluate_model(model, x_test_count, torch.tensor(test_y.values, dtype=torch.float32))"
      ]
    },
    {
      "cell_type": "code",
      "execution_count": 21,
      "metadata": {
        "colab": {
          "base_uri": "https://localhost:8080/"
        },
        "id": "EUMQfyOwUz7y",
        "outputId": "41a50e3d-d2fa-487f-ff2a-aa816f22e42e"
      },
      "outputs": [
        {
          "name": "stdout",
          "output_type": "stream",
          "text": [
            "Точность на обучающем наборе: 0.9516810369770268\n",
            "Точность на тестовом наборе: 0.9453830131913908\n"
          ]
        }
      ],
      "source": [
        "print(\"Точность на обучающем наборе:\", train_accuracy)\n",
        "print(\"Точность на тестовом наборе:\", test_accuracy)"
      ]
    },
    {
      "cell_type": "code",
      "execution_count": 24,
      "metadata": {
        "colab": {
          "base_uri": "https://localhost:8080/",
          "height": 472
        },
        "id": "HA-5XXPPU1F9",
        "outputId": "862d1fff-3f2a-4b3b-e3c6-b2e69d3a73a9"
      },
      "outputs": [
        {
          "data": {
            "image/png": "[encoded data removed]",
            "text/plain": [
              "<Figure size 640x480 with 1 Axes>"
            ]
          },
          "metadata": {},
          "output_type": "display_data"
        }
      ],
      "source": [
        "# Вычисление ROC-кривой и вывод графика\n",
        "y = train_y\n",
        "X = x_train_count\n",
        "model.eval()\n",
        "outputs = model(X)\n",
        "logit_roc_auc = roc_auc_score(y, torch.sigmoid(outputs).detach().numpy())\n",
        "fpr, tpr, thresholds = roc_curve(y, torch.sigmoid(outputs).detach().cpu().numpy())\n",
        "plt.figure()\n",
        "plt.plot(fpr, tpr, label='AUC (площадь = %0.2f)' % logit_roc_auc)\n",
        "plt.plot([0, 1], [0, 1], 'r--')\n",
        "plt.xlim([0.0, 1.0])\n",
        "plt.ylim([0.0, 1.05])\n",
        "plt.xlabel('False Positive Rate (Ложно положительные)')\n",
        "plt.ylabel('True Positive Rate (Истинно положительные)')\n",
        "plt.title('ROC-кривая')\n",
        "plt.legend()\n",
        "plt.show()"
      ]
    }
  ],
  "metadata": {
    "colab": {
      "provenance": []
    },
    "kernelspec": {
      "display_name": "Python 3",
      "name": "python3"
    },
    "language_info": {
      "name": "python"
    }
  },
  "nbformat": 4,
  "nbformat_minor": 0
}
