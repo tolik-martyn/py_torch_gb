{
 "cells": [
  {
   "cell_type": "code",
   "execution_count": 10,
   "id": "8f0c7fc7-016c-4189-928f-2b8c8914392d",
   "metadata": {},
   "outputs": [],
   "source": [
    "from transformers import pipeline\n",
    "import pandas as pd\n",
    "import torch\n",
    "from transformers import AutoTokenizer, AutoModelForSequenceClassification"
   ]
  },
  {
   "cell_type": "code",
   "execution_count": 11,
   "id": "c31d4a64-5ff7-4659-934c-5a9e361e0921",
   "metadata": {},
   "outputs": [],
   "source": [
    "# Use a pipeline as a high-level helper\n",
    "pipe = pipeline(\"text-classification\", model=\"distilbert-base-uncased-finetuned-sst-2-english\")"
   ]
  },
  {
   "cell_type": "code",
   "execution_count": 12,
   "id": "3c883ba8-e722-461b-a87d-1524d04c55cd",
   "metadata": {},
   "outputs": [],
   "source": [
    "# Load model directly\n",
    "tokenizer = AutoTokenizer.from_pretrained(\"distilbert-base-uncased-finetuned-sst-2-english\")\n",
    "model = AutoModelForSequenceClassification.from_pretrained(\"distilbert-base-uncased-finetuned-sst-2-english\")"
   ]
  },
  {
   "cell_type": "code",
   "execution_count": 13,
   "id": "a95ba7d5-d05c-4d9f-a977-e0d508ca08a7",
   "metadata": {},
   "outputs": [],
   "source": [
    "df_val = pd.read_csv(\"offenseval_val.csv\")"
   ]
  },
  {
   "cell_type": "code",
   "execution_count": 14,
   "id": "15a2d1bb-155a-4a86-af6b-bcfce6d7b753",
   "metadata": {},
   "outputs": [],
   "source": [
    "# Предобработка текста с использованием токенизатора\n",
    "texts = df_val['text'].tolist()\n",
    "inputs = tokenizer(texts, padding=True, truncation=True, return_tensors=\"pt\")\n"
   ]
  },
  {
   "cell_type": "code",
   "execution_count": 15,
   "id": "fdfb4bc7-8dfa-4d8e-aefd-d5e056227ce2",
   "metadata": {},
   "outputs": [],
   "source": [
    "# Предсказание с использованием модели\n",
    "with torch.no_grad():\n",
    "    outputs = model(**inputs)"
   ]
  },
  {
   "cell_type": "code",
   "execution_count": 16,
   "id": "306e9d7b-7367-4cae-9d45-f28a211f5564",
   "metadata": {},
   "outputs": [],
   "source": [
    "# Извлечение классов\n",
    "predictions = torch.argmax(outputs.logits, dim=1).tolist()"
   ]
  },
  {
   "cell_type": "code",
   "execution_count": 21,
   "id": "45a221c4-6fe1-47e5-aa72-df50a098b020",
   "metadata": {},
   "outputs": [],
   "source": [
    "# Истинные метки из df_val\n",
    "true_labels = df_val['label'].tolist()"
   ]
  },
  {
   "cell_type": "code",
   "execution_count": 22,
   "id": "ddd201a5-c014-4aab-a165-61e6cf567883",
   "metadata": {},
   "outputs": [],
   "source": [
    "from sklearn.metrics import accuracy_score, precision_score, recall_score, f1_score\n",
    "\n",
    "accuracy = accuracy_score(true_labels, predictions)\n",
    "precision = precision_score(true_labels, predictions)\n",
    "recall = recall_score(true_labels, predictions)\n",
    "f1 = f1_score(true_labels, predictions)"
   ]
  },
  {
   "cell_type": "code",
   "execution_count": 23,
   "id": "a4a6dc29-fd71-4dcb-8b9f-3e5e6c4a02cb",
   "metadata": {},
   "outputs": [
    {
     "name": "stdout",
     "output_type": "stream",
     "text": [
      "Accuracy: 0.51\n",
      "Precision: 0.17\n",
      "Recall: 0.11\n",
      "F1 Score: 0.13\n"
     ]
    }
   ],
   "source": [
    "print(f\"Accuracy: {accuracy:.2f}\")\n",
    "print(f\"Precision: {precision:.2f}\")\n",
    "print(f\"Recall: {recall:.2f}\")\n",
    "print(f\"F1 Score: {f1:.2f}\")"
   ]
  },
  {
   "cell_type": "code",
   "execution_count": 24,
   "id": "b03b4981-bc9f-4cf3-9c94-8ad106bc004a",
   "metadata": {},
   "outputs": [],
   "source": [
    "metrics = ['Accuracy', 'Precision', 'Recall', 'F1 Score']\n",
    "values = [accuracy, precision, recall, f1]"
   ]
  },
  {
   "cell_type": "code",
   "execution_count": 25,
   "id": "d826976c-60c2-4bd1-ba01-89f68478b1f2",
   "metadata": {},
   "outputs": [
    {
     "data": {
      "image/png": "[encoded data removed]",
      "text/plain": [
       "<Figure size 1000x600 with 1 Axes>"
      ]
     },
     "metadata": {},
     "output_type": "display_data"
    }
   ],
   "source": [
    "import matplotlib.pyplot as plt\n",
    "\n",
    "plt.figure(figsize=(10, 6))\n",
    "plt.bar(metrics, values, color=['blue', 'green', 'red', 'purple'])\n",
    "plt.title('Метрики качества')\n",
    "plt.xlabel('Метрика')\n",
    "plt.ylabel('Значение')\n",
    "plt.ylim(0, 1)\n",
    "plt.show()"
   ]
  },
  {
   "cell_type": "code",
   "execution_count": 83,
   "id": "4cfd319a-4e62-46d4-a895-2e9d6d5eff94",
   "metadata": {},
   "outputs": [],
   "source": [
    "from transformers import AdamW"
   ]
  },
  {
   "cell_type": "code",
   "execution_count": 100,
   "id": "d217261d-e6de-409c-ad01-0910c518daab",
   "metadata": {},
   "outputs": [],
   "source": [
    "# Загрузка обучающего набора данных\n",
    "df_train = pd.read_csv(\"offenseval_train.csv\")"
   ]
  },
  {
   "cell_type": "code",
   "execution_count": 101,
   "id": "6bcfc4f0-6558-4e82-8343-9dc4b823c351",
   "metadata": {},
   "outputs": [],
   "source": [
    "# Преобразование текстовых данных и меток в тензоры\n",
    "texts = df_train['text'].tolist()\n",
    "labels = df_train['label'].tolist()"
   ]
  },
  {
   "cell_type": "code",
   "execution_count": 94,
   "id": "628c0270-a747-4ea2-adb7-d1b07cd0eff8",
   "metadata": {},
   "outputs": [],
   "source": [
    "# Токенизация и конвертация в тензоры\n",
    "inputs = tokenizer(texts, padding=True, truncation=True, return_tensors=\"pt\")\n",
    "labels = torch.tensor(labels)"
   ]
  },
  {
   "cell_type": "code",
   "execution_count": 95,
   "id": "4ee756a0-f551-4af9-a258-8e8d2af3c895",
   "metadata": {},
   "outputs": [],
   "source": [
    "# Создание TensorDataset\n",
    "dataset = TensorDataset(inputs.input_ids, inputs.attention_mask, labels)"
   ]
  },
  {
   "cell_type": "code",
   "execution_count": 96,
   "id": "5b36c7d9-ceca-4e4b-96b5-50676e0995e3",
   "metadata": {},
   "outputs": [],
   "source": [
    "# Настройка DataLoader\n",
    "batch_size = 16\n",
    "train_loader = DataLoader(dataset, batch_size=batch_size, shuffle=True)"
   ]
  },
  {
   "cell_type": "code",
   "execution_count": 97,
   "id": "4f263e37-97a0-407d-8b63-fe3805d204e8",
   "metadata": {},
   "outputs": [],
   "source": [
    "# Параметры оптимизатора и функции потерь\n",
    "optimizer = AdamW(model.parameters(), lr=1e-5)\n",
    "loss_fn = torch.nn.CrossEntropyLoss()"
   ]
  },
  {
   "cell_type": "code",
   "execution_count": 98,
   "id": "8d02f38b-6b72-40f5-aa01-790b029d710a",
   "metadata": {},
   "outputs": [
    {
     "name": "stdout",
     "output_type": "stream",
     "text": [
      "Epoch 1/3, Average Loss: 0.6248\n",
      "Epoch 2/3, Average Loss: 0.4301\n",
      "Epoch 3/3, Average Loss: 0.3555\n"
     ]
    }
   ],
   "source": [
    "# Процесс дообучения\n",
    "num_epochs = 3\n",
    "\n",
    "for epoch in range(num_epochs):\n",
    "    model.train()\n",
    "    total_loss = 0\n",
    "\n",
    "    for batch in train_loader:\n",
    "        input_ids, attention_mask, labels = batch\n",
    "\n",
    "        # Очистите градиенты\n",
    "        optimizer.zero_grad()\n",
    "\n",
    "        # Прямой проход\n",
    "        outputs = model(input_ids, attention_mask=attention_mask)\n",
    "        logits = outputs.logits\n",
    "\n",
    "        # Вычисление функции потерь\n",
    "        loss = loss_fn(logits, labels)\n",
    "        total_loss += loss.item()\n",
    "\n",
    "        # Обратное распространение и обновление весов\n",
    "        loss.backward()\n",
    "        optimizer.step()\n",
    "\n",
    "    average_loss = total_loss / len(train_loader)\n",
    "    print(f\"Epoch {epoch + 1}/{num_epochs}, Average Loss: {average_loss:.4f}\")"
   ]
  },
  {
   "cell_type": "code",
   "execution_count": 102,
   "id": "fda5a3c9-11c2-4f3a-8ec9-62b57682fab0",
   "metadata": {},
   "outputs": [
    {
     "data": {
      "text/plain": [
       "('tuned_tokenizer\\\\tokenizer_config.json',\n",
       " 'tuned_tokenizer\\\\special_tokens_map.json',\n",
       " 'tuned_tokenizer\\\\vocab.txt',\n",
       " 'tuned_tokenizer\\\\added_tokens.json',\n",
       " 'tuned_tokenizer\\\\tokenizer.json')"
      ]
     },
     "execution_count": 102,
     "metadata": {},
     "output_type": "execute_result"
    }
   ],
   "source": [
    "model.save_pretrained(\"tuned_model\")\n",
    "tokenizer.save_pretrained(\"tuned_tokenizer\")"
   ]
  },
  {
   "cell_type": "code",
   "execution_count": 103,
   "id": "badf49c7-2a5b-4617-be2d-872cdf9c2c63",
   "metadata": {},
   "outputs": [],
   "source": [
    "# Загрузка тестового набора данных\n",
    "df_test = pd.read_csv(\"offenseval_test.csv\")"
   ]
  },
  {
   "cell_type": "code",
   "execution_count": 104,
   "id": "3ba3d7a5-1100-4f58-a3e1-db69a1f563c0",
   "metadata": {},
   "outputs": [],
   "source": [
    "# Загрузка токенизатора и дообученной модели\n",
    "tokenizer = AutoTokenizer.from_pretrained(\"tuned_tokenizer\")\n",
    "model = AutoModelForSequenceClassification.from_pretrained(\"tuned_model\")"
   ]
  },
  {
   "cell_type": "code",
   "execution_count": 105,
   "id": "163c1eec-f585-41b1-9024-2cf5dfb72182",
   "metadata": {},
   "outputs": [],
   "source": [
    "# Преобразование текстовых данных и метки в тензоры\n",
    "texts = df_test['text'].tolist()\n",
    "labels = df_test['label'].tolist()"
   ]
  },
  {
   "cell_type": "code",
   "execution_count": 106,
   "id": "a243b60b-f004-4d9f-aee2-268560a181c3",
   "metadata": {},
   "outputs": [],
   "source": [
    "# Токенизация и конвертация в тензоры\n",
    "inputs = tokenizer(texts, padding=True, truncation=True, return_tensors=\"pt\")\n",
    "labels = torch.tensor(labels)"
   ]
  },
  {
   "cell_type": "code",
   "execution_count": 107,
   "id": "1e7e122d-a4b4-4b65-a2fd-77a670737bac",
   "metadata": {},
   "outputs": [],
   "source": [
    "# Выполните предсказания на тестовых данных\n",
    "with torch.no_grad():\n",
    "    model.eval()\n",
    "    outputs = model(**inputs)\n",
    "    predictions = torch.argmax(outputs.logits, dim=1).tolist()"
   ]
  },
  {
   "cell_type": "code",
   "execution_count": 108,
   "id": "f635d952-ba84-4707-8080-2243789d2e6b",
   "metadata": {},
   "outputs": [],
   "source": [
    "# Вычислите метрики качества\n",
    "accuracy = accuracy_score(labels, predictions)\n",
    "precision = precision_score(labels, predictions)\n",
    "recall = recall_score(labels, predictions)\n",
    "f1 = f1_score(labels, predictions)"
   ]
  },
  {
   "cell_type": "code",
   "execution_count": 109,
   "id": "3c093122-1972-4326-8595-2554edb1712b",
   "metadata": {},
   "outputs": [
    {
     "name": "stdout",
     "output_type": "stream",
     "text": [
      "Accuracy: 0.8267\n",
      "Precision: 0.7935\n",
      "Recall: 0.5125\n",
      "F1 Score: 0.6228\n"
     ]
    }
   ],
   "source": [
    "# Выведите метрики качества\n",
    "print(f\"Accuracy: {accuracy:.4f}\")\n",
    "print(f\"Precision: {precision:.4f}\")\n",
    "print(f\"Recall: {recall:.4f}\")\n",
    "print(f\"F1 Score: {f1:.4f}\")"
   ]
  },
  {
   "cell_type": "code",
   "execution_count": 110,
   "id": "45f6306b-d810-4410-98ba-e45482f46373",
   "metadata": {},
   "outputs": [
    {
     "data": {
      "image/png": "[encoded data removed]",
      "text/plain": [
       "<Figure size 1000x600 with 1 Axes>"
      ]
     },
     "metadata": {},
     "output_type": "display_data"
    }
   ],
   "source": [
    "values = [accuracy, precision, recall, f1]\n",
    "\n",
    "plt.figure(figsize=(10, 6))\n",
    "plt.bar(metrics, values, color=['blue', 'green', 'red', 'purple'])\n",
    "plt.title('Метрики качества')\n",
    "plt.xlabel('Метрика')\n",
    "plt.ylabel('Значение')\n",
    "plt.ylim(0, 1)\n",
    "plt.show()"
   ]
  },
  {
   "cell_type": "code",
   "execution_count": null,
   "id": "57a3a12a-a4a8-4b88-8ed1-5ae9f4f2050b",
   "metadata": {},
   "outputs": [],
   "source": []
  }
 ],
 "metadata": {
  "kernelspec": {
   "display_name": "Python 3 (ipykernel)",
   "language": "python",
   "name": "python3"
  },
  "language_info": {
   "codemirror_mode": {
    "name": "ipython",
    "version": 3
   },
   "file_extension": ".py",
   "mimetype": "text/x-python",
   "name": "python",
   "nbconvert_exporter": "python",
   "pygments_lexer": "ipython3",
   "version": "3.9.13"
  }
 },
 "nbformat": 4,
 "nbformat_minor": 5
}
