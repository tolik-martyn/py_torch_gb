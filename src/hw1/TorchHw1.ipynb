{
  "nbformat": 4,
  "nbformat_minor": 0,
  "metadata": {
    "colab": {
      "provenance": []
    },
    "kernelspec": {
      "name": "python3",
      "display_name": "Python 3"
    },
    "language_info": {
      "name": "python"
    }
  },
  "cells": [
    {
      "cell_type": "code",
      "execution_count": 1,
      "metadata": {
        "id": "2lE-Eqe9LpsN"
      },
      "outputs": [],
      "source": [
        "import torch\n",
        "import numpy as np"
      ]
    },
    {
      "cell_type": "code",
      "source": [
        "def print_tens_info(tensor):\n",
        "    print(\"X :\\n%s\\n\" % tensor)\n",
        "    print(\"X количество измерений:\\n%s\\n\" % tensor.dim())\n",
        "    print(\"X размеры : \",  tensor.size())\n",
        "    print(\"X тип : %s\\n\" % (tensor.type()))\n",
        "#     print(\"Добавим 10 :\\n%s\\n\" % (tensor + 10))\n",
        "#     print(\"Среднее по строчке :\\n%s\\n\" % (tensor.mean(axis=-1)))\n",
        "#     print(\"Среднее по столбцу :\\n%s\\n\" % (tensor.mean(axis=0)))"
      ],
      "metadata": {
        "id": "D2lOoUZeNcBP"
      },
      "execution_count": 8,
      "outputs": []
    },
    {
      "cell_type": "code",
      "source": [
        "# 1. Создайте случайный FloatTensor размера 3x4x5\n",
        "random_float_tensor = torch.randn(3, 4, 5)\n",
        "print_tens_info(random_float_tensor)"
      ],
      "metadata": {
        "colab": {
          "base_uri": "https://localhost:8080/"
        },
        "id": "E7B9FZDxMDhh",
        "outputId": "cb634f27-5caf-4308-ca64-1a15abb75a43"
      },
      "execution_count": 9,
      "outputs": [
        {
          "output_type": "stream",
          "name": "stdout",
          "text": [
            "X :\n",
            "tensor([[[-2.0533,  0.6928, -1.1283,  0.0726,  2.9805],\n",
            "         [ 0.7438,  0.6412, -0.1275,  0.4197,  0.4124],\n",
            "         [ 0.3022, -0.8782, -1.1405,  0.6778,  0.0910],\n",
            "         [ 0.8221,  0.5826, -1.1443,  0.1133, -1.9675]],\n",
            "\n",
            "        [[-0.0872,  0.2376,  0.2568, -0.0889,  0.3757],\n",
            "         [ 1.1661, -1.2175, -0.5541, -1.0031,  0.6302],\n",
            "         [-0.4699,  0.5458,  0.6909,  0.0645,  0.1643],\n",
            "         [-0.0718,  0.8474, -1.4140,  1.7196, -0.4215]],\n",
            "\n",
            "        [[-1.2677,  0.5189,  1.0236, -0.6413, -0.9892],\n",
            "         [-1.3942, -1.4767,  1.7769,  0.7540, -0.5320],\n",
            "         [-0.0408,  1.1714, -0.0429,  0.8475, -0.6490],\n",
            "         [ 0.2885, -1.2409, -0.9790,  0.1976,  0.8879]]])\n",
            "\n",
            "X количество измерений:\n",
            "3\n",
            "\n",
            "X размеры :  torch.Size([3, 4, 5])\n",
            "X тип : torch.FloatTensor\n",
            "\n"
          ]
        }
      ]
    },
    {
      "cell_type": "code",
      "source": [
        "# 2.1 Выведите его форму (shape)\n",
        "random_float_tensor.shape"
      ],
      "metadata": {
        "colab": {
          "base_uri": "https://localhost:8080/"
        },
        "id": "IyKgvR_HMHF9",
        "outputId": "95fbfa6c-2fec-4324-863a-a432ec667346"
      },
      "execution_count": 10,
      "outputs": [
        {
          "output_type": "execute_result",
          "data": {
            "text/plain": [
              "torch.Size([3, 4, 5])"
            ]
          },
          "metadata": {},
          "execution_count": 10
        }
      ]
    },
    {
      "cell_type": "code",
      "source": [
        "# 2.2 Выведите его форму (size)\n",
        "random_float_tensor.size()"
      ],
      "metadata": {
        "colab": {
          "base_uri": "https://localhost:8080/"
        },
        "id": "TUbDlFPqNxC7",
        "outputId": "8ed2785f-390e-4100-e81b-15efe77384b9"
      },
      "execution_count": 11,
      "outputs": [
        {
          "output_type": "execute_result",
          "data": {
            "text/plain": [
              "torch.Size([3, 4, 5])"
            ]
          },
          "metadata": {},
          "execution_count": 11
        }
      ]
    },
    {
      "cell_type": "code",
      "source": [
        "# 3. Приведите его к форме 6x10\n",
        "reshaped_float_tensor = random_float_tensor.view(6, 10)\n",
        "print_tens_info(reshaped_float_tensor)"
      ],
      "metadata": {
        "colab": {
          "base_uri": "https://localhost:8080/"
        },
        "id": "DUBNNnSUMa9u",
        "outputId": "57e6d290-5e49-4e4c-d500-e307ca86d19e"
      },
      "execution_count": 12,
      "outputs": [
        {
          "output_type": "stream",
          "name": "stdout",
          "text": [
            "X :\n",
            "tensor([[-2.0533,  0.6928, -1.1283,  0.0726,  2.9805,  0.7438,  0.6412, -0.1275,\n",
            "          0.4197,  0.4124],\n",
            "        [ 0.3022, -0.8782, -1.1405,  0.6778,  0.0910,  0.8221,  0.5826, -1.1443,\n",
            "          0.1133, -1.9675],\n",
            "        [-0.0872,  0.2376,  0.2568, -0.0889,  0.3757,  1.1661, -1.2175, -0.5541,\n",
            "         -1.0031,  0.6302],\n",
            "        [-0.4699,  0.5458,  0.6909,  0.0645,  0.1643, -0.0718,  0.8474, -1.4140,\n",
            "          1.7196, -0.4215],\n",
            "        [-1.2677,  0.5189,  1.0236, -0.6413, -0.9892, -1.3942, -1.4767,  1.7769,\n",
            "          0.7540, -0.5320],\n",
            "        [-0.0408,  1.1714, -0.0429,  0.8475, -0.6490,  0.2885, -1.2409, -0.9790,\n",
            "          0.1976,  0.8879]])\n",
            "\n",
            "X количество измерений:\n",
            "2\n",
            "\n",
            "X размеры :  torch.Size([6, 10])\n",
            "X тип : torch.FloatTensor\n",
            "\n"
          ]
        }
      ]
    },
    {
      "cell_type": "code",
      "source": [
        "# 4. Создайте случайный IntTensor размера 10\n",
        "random_int_tensor = torch.randint(0, 10, (10,))\n",
        "print_tens_info(random_int_tensor)"
      ],
      "metadata": {
        "colab": {
          "base_uri": "https://localhost:8080/"
        },
        "id": "RuSCDvYSMdt5",
        "outputId": "81047de3-6d13-41f2-ec0e-b1ad47cb59f6"
      },
      "execution_count": 13,
      "outputs": [
        {
          "output_type": "stream",
          "name": "stdout",
          "text": [
            "X :\n",
            "tensor([6, 5, 1, 3, 3, 2, 8, 8, 0, 9])\n",
            "\n",
            "X количество измерений:\n",
            "1\n",
            "\n",
            "X размеры :  torch.Size([10])\n",
            "X тип : torch.LongTensor\n",
            "\n"
          ]
        }
      ]
    },
    {
      "cell_type": "code",
      "source": [
        "# 5. Умножьте созданный FloatTensor на созданный IntTensor поэлементно\n",
        "elementwise_multiplied_tensor = reshaped_float_tensor * random_int_tensor\n",
        "print_tens_info(elementwise_multiplied_tensor)"
      ],
      "metadata": {
        "colab": {
          "base_uri": "https://localhost:8080/"
        },
        "id": "6UNIKrd5Mnt_",
        "outputId": "d3242ffc-2bb7-408a-901c-bf7225b1466d"
      },
      "execution_count": 15,
      "outputs": [
        {
          "output_type": "stream",
          "name": "stdout",
          "text": [
            "X :\n",
            "tensor([[-12.3201,   3.4640,  -1.1283,   0.2177,   8.9414,   1.4875,   5.1299,\n",
            "          -1.0202,   0.0000,   3.7112],\n",
            "        [  1.8135,  -4.3910,  -1.1405,   2.0334,   0.2729,   1.6443,   4.6604,\n",
            "          -9.1540,   0.0000, -17.7076],\n",
            "        [ -0.5233,   1.1879,   0.2568,  -0.2667,   1.1272,   2.3323,  -9.7396,\n",
            "          -4.4327,  -0.0000,   5.6720],\n",
            "        [ -2.8191,   2.7292,   0.6909,   0.1936,   0.4928,  -0.1435,   6.7793,\n",
            "         -11.3117,   0.0000,  -3.7933],\n",
            "        [ -7.6060,   2.5947,   1.0236,  -1.9240,  -2.9677,  -2.7883, -11.8132,\n",
            "          14.2154,   0.0000,  -4.7883],\n",
            "        [ -0.2447,   5.8571,  -0.0429,   2.5426,  -1.9470,   0.5770,  -9.9270,\n",
            "          -7.8319,   0.0000,   7.9909]])\n",
            "\n",
            "X количество измерений:\n",
            "2\n",
            "\n",
            "X размеры :  torch.Size([6, 10])\n",
            "X тип : torch.FloatTensor\n",
            "\n"
          ]
        }
      ]
    },
    {
      "cell_type": "code",
      "source": [
        "# 6. Умножьте тензор матрично на себя, чтобы результат был размерности 6x6\n",
        "matrix_multiplied_tensor = torch.matmul(reshaped_float_tensor, reshaped_float_tensor.T)\n",
        "print_tens_info(matrix_multiplied_tensor)"
      ],
      "metadata": {
        "colab": {
          "base_uri": "https://localhost:8080/"
        },
        "id": "0JiDKQ9SMuqL",
        "outputId": "255d52ab-b407-4fa8-91f1-f2088227b5a4"
      },
      "execution_count": 16,
      "outputs": [
        {
          "output_type": "stream",
          "name": "stdout",
          "text": [
            "X :\n",
            "tensor([[16.1844,  0.7452,  1.1636,  2.2760, -3.3007, -0.9363],\n",
            "        [ 0.7452,  8.8396, -1.0240,  1.7260, -5.4385, -1.5667],\n",
            "        [ 1.1636, -1.0240,  4.8316, -1.9185, -1.7222,  2.7025],\n",
            "        [ 2.2760,  1.7260, -1.9185,  6.8845, -0.7609,  0.8546],\n",
            "        [-3.3007, -5.4385, -1.7222, -0.7609, 12.4471,  0.0813],\n",
            "        [-0.9363, -1.5667,  2.7025,  0.8546,  0.0813,  5.9240]])\n",
            "\n",
            "X количество измерений:\n",
            "2\n",
            "\n",
            "X размеры :  torch.Size([6, 6])\n",
            "X тип : torch.FloatTensor\n",
            "\n"
          ]
        }
      ]
    },
    {
      "cell_type": "code",
      "source": [
        "# 7. Посчитайте производную функции y = x**3 + z - 75t в точке (1, 0.5, 2)\n",
        "x = torch.tensor(1.0, requires_grad=True)\n",
        "z = torch.tensor(0.5, requires_grad=True)\n",
        "t = torch.tensor(2.0, requires_grad=True)\n",
        "\n",
        "y = x**3 + z - 75*t\n",
        "y.backward()\n",
        "print(\"dy/dx:\", x.grad.item())\n",
        "print(\"dy/dz:\", z.grad.item())\n",
        "print(\"dy/dt:\", t.grad.item())"
      ],
      "metadata": {
        "colab": {
          "base_uri": "https://localhost:8080/"
        },
        "id": "nB2chjxiR3I1",
        "outputId": "7faa3e1b-125d-46c7-f73c-a301a266af15"
      },
      "execution_count": 17,
      "outputs": [
        {
          "output_type": "stream",
          "name": "stdout",
          "text": [
            "dy/dx: 3.0\n",
            "dy/dz: 1.0\n",
            "dy/dt: -75.0\n"
          ]
        }
      ]
    },
    {
      "cell_type": "code",
      "source": [
        "# 8. Создайте единичный тензор размера 5x6\n",
        "identity_tensor = torch.eye(5, 6)\n",
        "print_tens_info(identity_tensor)"
      ],
      "metadata": {
        "colab": {
          "base_uri": "https://localhost:8080/"
        },
        "id": "a68X-iGXS8Xz",
        "outputId": "52f325ae-c94f-4dec-8690-65c1718edc6e"
      },
      "execution_count": 18,
      "outputs": [
        {
          "output_type": "stream",
          "name": "stdout",
          "text": [
            "X :\n",
            "tensor([[1., 0., 0., 0., 0., 0.],\n",
            "        [0., 1., 0., 0., 0., 0.],\n",
            "        [0., 0., 1., 0., 0., 0.],\n",
            "        [0., 0., 0., 1., 0., 0.],\n",
            "        [0., 0., 0., 0., 1., 0.]])\n",
            "\n",
            "X количество измерений:\n",
            "2\n",
            "\n",
            "X размеры :  torch.Size([5, 6])\n",
            "X тип : torch.FloatTensor\n",
            "\n"
          ]
        }
      ]
    },
    {
      "cell_type": "code",
      "source": [
        "# 9. Переведите его в формат numpy\n",
        "numpy_identity_tensor = identity_tensor.numpy()\n",
        "numpy_identity_tensor"
      ],
      "metadata": {
        "colab": {
          "base_uri": "https://localhost:8080/"
        },
        "id": "kUE7i3sZTsj7",
        "outputId": "1c785da9-651e-4929-a8d2-ed89aa47a084"
      },
      "execution_count": 21,
      "outputs": [
        {
          "output_type": "execute_result",
          "data": {
            "text/plain": [
              "array([[1., 0., 0., 0., 0., 0.],\n",
              "       [0., 1., 0., 0., 0., 0.],\n",
              "       [0., 0., 1., 0., 0., 0.],\n",
              "       [0., 0., 0., 1., 0., 0.],\n",
              "       [0., 0., 0., 0., 1., 0.]], dtype=float32)"
            ]
          },
          "metadata": {},
          "execution_count": 21
        }
      ]
    },
    {
      "cell_type": "code",
      "source": [
        "# 10. Оптимизация с помощью функции y = x**w1 - 2 * x**2 + 5\n",
        "x_opt = torch.tensor(1.0, requires_grad=True)\n",
        "w1 = torch.tensor(2.0, requires_grad=True)\n",
        "\n",
        "y_opt = x_opt**w1 - 2 * x_opt**2 + 5\n",
        "y_opt.backward()\n",
        "\n",
        "print(\"dy/dx_opt:\", x_opt.grad.item())\n",
        "print(\"dy/dw1:\", w1.grad.item())"
      ],
      "metadata": {
        "colab": {
          "base_uri": "https://localhost:8080/"
        },
        "id": "kM5_GrneT6G1",
        "outputId": "e2d7988f-5193-4909-eafa-7ac1ac752546"
      },
      "execution_count": 22,
      "outputs": [
        {
          "output_type": "stream",
          "name": "stdout",
          "text": [
            "dy/dx_opt: -2.0\n",
            "dy/dw1: 0.0\n"
          ]
        }
      ]
    },
    {
      "cell_type": "markdown",
      "source": [
        "## Обучение простой нейронной сети, которая решает задачу умножения на вектор из 10 чисел"
      ],
      "metadata": {
        "id": "gmqEfdmMd6sy"
      }
    },
    {
      "cell_type": "code",
      "source": [
        "import torch.nn as nn\n",
        "import torch.optim as optim"
      ],
      "metadata": {
        "id": "KjBrLiKe7Lyy"
      },
      "execution_count": 177,
      "outputs": []
    },
    {
      "cell_type": "code",
      "source": [
        "# Обучающие данные\n",
        "train_data = reshaped_float_tensor[:5]\n",
        "train_labels = elementwise_multiplied_tensor[:5]"
      ],
      "metadata": {
        "id": "pquPE4mo8kmz"
      },
      "execution_count": 193,
      "outputs": []
    },
    {
      "cell_type": "code",
      "source": [
        "# Тестовые данные\n",
        "test_data = reshaped_float_tensor[5:]\n",
        "test_labels = elementwise_multiplied_tensor[5:]"
      ],
      "metadata": {
        "id": "ylfYeJvP8ohk"
      },
      "execution_count": 194,
      "outputs": []
    },
    {
      "cell_type": "code",
      "source": [
        "# Создаем класс для простой линейной нейронной сети\n",
        "class SimpleNN(nn.Module):\n",
        "    def __init__(self):\n",
        "        super(SimpleNN, self).__init__()\n",
        "        self.linear = nn.Linear(10, 10)\n",
        "\n",
        "    def forward(self, x):\n",
        "        return self.linear(x)"
      ],
      "metadata": {
        "id": "xaISFkPe8puj"
      },
      "execution_count": 195,
      "outputs": []
    },
    {
      "cell_type": "code",
      "source": [
        "# Создаем экземпляр нейронной сети\n",
        "model = SimpleNN()"
      ],
      "metadata": {
        "id": "0bNOa9LX8q-q"
      },
      "execution_count": 196,
      "outputs": []
    },
    {
      "cell_type": "code",
      "source": [
        "# Определяем функцию потерь\n",
        "criterion = nn.MSELoss()"
      ],
      "metadata": {
        "id": "6XyptApM8s2m"
      },
      "execution_count": 197,
      "outputs": []
    },
    {
      "cell_type": "code",
      "source": [
        "# Определяем оптимизатор (SGD)\n",
        "optimizer = optim.SGD(model.parameters(), lr=0.01)"
      ],
      "metadata": {
        "id": "qK_oangt8uNC"
      },
      "execution_count": 198,
      "outputs": []
    },
    {
      "cell_type": "code",
      "source": [
        "# Цикл обучения\n",
        "epochs = 3000\n",
        "for epoch in range(epochs):\n",
        "    # Обнуляем градиенты\n",
        "    optimizer.zero_grad()\n",
        "\n",
        "    # Прямой проход (получение предсказания модели)\n",
        "    predictions = model(train_data)\n",
        "\n",
        "    # Вычисление функции потерь\n",
        "    loss = criterion(predictions, train_labels)\n",
        "\n",
        "    # Обратное распространение ошибки (рассчет градиентов)\n",
        "    loss.backward()\n",
        "\n",
        "    # Обновление весов\n",
        "    optimizer.step()\n",
        "\n",
        "    # Выводим значение функции потерь каждые 100 эпох\n",
        "    if epoch % 200 == 0:\n",
        "        print(f\"Epoch {epoch}, Loss: {loss.item()}\")"
      ],
      "metadata": {
        "colab": {
          "base_uri": "https://localhost:8080/"
        },
        "id": "U4WVcvSO8veF",
        "outputId": "4b14251a-ce60-43a5-9b40-59b5900eaa98"
      },
      "execution_count": 199,
      "outputs": [
        {
          "output_type": "stream",
          "name": "stdout",
          "text": [
            "Epoch 0, Loss: 32.9001579284668\n",
            "Epoch 200, Loss: 5.834619522094727\n",
            "Epoch 400, Loss: 1.8222668170928955\n",
            "Epoch 600, Loss: 0.7344302535057068\n",
            "Epoch 800, Loss: 0.32941052317619324\n",
            "Epoch 1000, Loss: 0.1552087962627411\n",
            "Epoch 1200, Loss: 0.0750538632273674\n",
            "Epoch 1400, Loss: 0.03686970844864845\n",
            "Epoch 1600, Loss: 0.018308617174625397\n",
            "Epoch 1800, Loss: 0.00916531402617693\n",
            "Epoch 2000, Loss: 0.004617521073669195\n",
            "Epoch 2200, Loss: 0.002338301157578826\n",
            "Epoch 2400, Loss: 0.001189094502478838\n",
            "Epoch 2600, Loss: 0.0006068135262466967\n",
            "Epoch 2800, Loss: 0.0003105575160589069\n"
          ]
        }
      ]
    },
    {
      "cell_type": "code",
      "source": [
        "# Тестирование на тестовых данных\n",
        "with torch.no_grad():\n",
        "    # Получаем предсказания модели на тестовых данных\n",
        "    test_predictions = model(test_data)"
      ],
      "metadata": {
        "id": "inZQNCf08yFi"
      },
      "execution_count": 200,
      "outputs": []
    },
    {
      "cell_type": "code",
      "source": [
        "# Выводим результат предсказания на тестовых данных\n",
        "print(test_predictions)"
      ],
      "metadata": {
        "colab": {
          "base_uri": "https://localhost:8080/"
        },
        "id": "dI5nvEd681W8",
        "outputId": "b96279eb-3e2f-41f1-97a1-a5f313f30d15"
      },
      "execution_count": 201,
      "outputs": [
        {
          "output_type": "stream",
          "name": "stdout",
          "text": [
            "tensor([[-0.2267,  1.6594,  1.6066, -0.4661, -0.4011,  1.6158, -6.3304, -5.9989,\n",
            "          0.3961,  3.8764]])\n"
          ]
        }
      ]
    },
    {
      "cell_type": "code",
      "source": [
        "# Выводим реальные данные\n",
        "print (test_labels)"
      ],
      "metadata": {
        "colab": {
          "base_uri": "https://localhost:8080/"
        },
        "id": "S2sFfHtg83Na",
        "outputId": "43784db4-7504-40e4-ee8c-38e15028c64d"
      },
      "execution_count": 202,
      "outputs": [
        {
          "output_type": "stream",
          "name": "stdout",
          "text": [
            "tensor([[-0.2447,  5.8571, -0.0429,  2.5426, -1.9470,  0.5770, -9.9270, -7.8319,\n",
            "          0.0000,  7.9909]])\n"
          ]
        }
      ]
    },
    {
      "cell_type": "code",
      "source": [],
      "metadata": {
        "id": "WQeS7n6hDuwy"
      },
      "execution_count": null,
      "outputs": []
    }
  ]
}